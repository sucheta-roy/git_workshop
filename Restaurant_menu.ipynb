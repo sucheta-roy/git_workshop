{
  "nbformat": 4,
  "nbformat_minor": 0,
  "metadata": {
    "colab": {
      "provenance": [],
      "authorship_tag": "ABX9TyNo8xZcZVYKOGflY8GC/Gv9",
      "include_colab_link": true
    },
    "kernelspec": {
      "name": "python3",
      "display_name": "Python 3"
    },
    "language_info": {
      "name": "python"
    }
  },
  "cells": [
    {
      "cell_type": "markdown",
      "metadata": {
        "id": "view-in-github",
        "colab_type": "text"
      },
      "source": [
        "<a href=\"https://colab.research.google.com/github/sucheta-roy/git_workshop/blob/main/Restaurant_menu.ipynb\" target=\"_parent\"><img src=\"https://colab.research.google.com/assets/colab-badge.svg\" alt=\"Open In Colab\"/></a>"
      ]
    },
    {
      "cell_type": "code",
      "execution_count": null,
      "metadata": {
        "colab": {
          "base_uri": "https://localhost:8080/"
        },
        "id": "60GvcE_8doJN",
        "outputId": "de90db22-b173-4b85-b547-90ddcf2fae87"
      },
      "outputs": [
        {
          "output_type": "stream",
          "name": "stdout",
          "text": [
            "Welcome to the Python Restaurant\n",
            "Fries: Rs30\n",
            "Pizza: Rs40\n",
            "Pasta: Rs50\n",
            "Burger: Rs60\n",
            "Salad: Rs70\n",
            "Cold Drink: Rs20\n",
            "What do you want to order? Fries\n",
            "Your Fries has been added to your order\n",
            "Do you want to add another item? (Yes/No) Yes\n",
            "What else do you want to add to your order?Coffee\n",
            "Coffee is not available in the menu.\n",
            "Your total payable bill amount is 30\n"
          ]
        }
      ],
      "source": [
        "#Define the menu of the restaurant\n",
        "menu = {\n",
        "    'Fries':30,\n",
        "    'Pizza':40,\n",
        "    'Pasta':50,\n",
        "    'Burger':60,\n",
        "    'Salad':70,\n",
        "    'Cold Drink':20,\n",
        "}\n",
        "#greet customers\n",
        "print(\"Welcome to the Python Restaurant\")\n",
        "print(\"Fries: Rs30\\nPizza: Rs40\\nPasta: Rs50\\nBurger: Rs60\\nSalad: Rs70\\nCold Drink: Rs20\")\n",
        "\n",
        "order_total = 0\n",
        "\n",
        "item_1 = input(\"What do you want to order? \")\n",
        "if item_1 in menu:\n",
        "    order_total += menu[item_1]\n",
        "    print(f\"Your {item_1} has been added to your order\")\n",
        "else:\n",
        "    print(f\"Ordered {item_1} is not available yet!\")\n",
        "\n",
        "another_order = input(\"Do you want to add another item? (Yes/No) \")\n",
        "if another_order ==\"Yes\":\n",
        "    item_2 = input(\"What else do you want to add to your order?\")\n",
        "    if item_2 in menu:\n",
        "        order_total += menu[item_2]\n",
        "        print(f\"{item_2} has been added.\")\n",
        "    else:\n",
        "        print(f\"{item_2} is not available in the menu.\")\n",
        "        print(f\"Your total payable bill amount is {order_total}\")"
      ]
    }
  ]
}